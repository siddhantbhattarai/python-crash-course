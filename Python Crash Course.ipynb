{
 "cells": [
  {
   "cell_type": "markdown",
   "id": "69411cde",
   "metadata": {},
   "source": [
    "#### Python Crash Course\n",
    "This notebook will just go through the basic topics in order:\n",
    "\n",
    "- Print Statements\n",
    "- Data types\n",
    "    - Numbers\n",
    "    - Strings\n",
    "    - Lists\n",
    "    - Dictionaries\n",
    "    - Booleans\n",
    "    - Tuples\n",
    "    - Sets\n",
    "- Comparison Operators\n",
    "- if,elif, else Statements\n",
    "- for Loops\n",
    "- while Loops\n",
    "- range()\n",
    "- list comprehension\n",
    "- functions\n",
    "- lambda expressions\n",
    "- map and filter\n",
    "- methods"
   ]
  },
  {
   "cell_type": "code",
   "execution_count": 1,
   "id": "ccb96d5a",
   "metadata": {},
   "outputs": [
    {
     "name": "stdout",
     "output_type": "stream",
     "text": [
      "Let's learn python for Machine Learning\n"
     ]
    }
   ],
   "source": [
    "# Let's learn about the print statements\n",
    "print(\"Let's learn python for Machine Learning\")"
   ]
  },
  {
   "cell_type": "code",
   "execution_count": 2,
   "id": "6e96f27e",
   "metadata": {},
   "outputs": [
    {
     "name": "stdout",
     "output_type": "stream",
     "text": [
      "16\n",
      "Aman\n"
     ]
    }
   ],
   "source": [
    "# let's create two variables and prints them\n",
    "x = 16\n",
    "y = \"Aman\"\n",
    "print(x)\n",
    "print(y)"
   ]
  },
  {
   "cell_type": "code",
   "execution_count": 6,
   "id": "8fce1cfc",
   "metadata": {},
   "outputs": [
    {
     "name": "stdout",
     "output_type": "stream",
     "text": [
      "Aman is 16 years old.\n"
     ]
    }
   ],
   "source": [
    "# let's print the statement with string formatting\n",
    "print(f\"{y} is {x} years old.\")"
   ]
  },
  {
   "cell_type": "code",
   "execution_count": 4,
   "id": "333b6918",
   "metadata": {},
   "outputs": [
    {
     "name": "stdout",
     "output_type": "stream",
     "text": [
      "Aman is 16 years old.\n"
     ]
    }
   ],
   "source": [
    "# Using format method\n",
    "print(\"{} is {} years old.\" .format(y,x))"
   ]
  },
  {
   "cell_type": "code",
   "execution_count": 9,
   "id": "3683e80d",
   "metadata": {},
   "outputs": [
    {
     "name": "stdout",
     "output_type": "stream",
     "text": [
      "Aman is 16 years old.\n"
     ]
    }
   ],
   "source": [
    "# Using concatenation method\n",
    "print(y + \" is \" + str(x) + \" years old.\")"
   ]
  },
  {
   "cell_type": "code",
   "execution_count": 11,
   "id": "41985714",
   "metadata": {},
   "outputs": [
    {
     "name": "stdout",
     "output_type": "stream",
     "text": [
      "Aman is 16 years old.\n"
     ]
    }
   ],
   "source": [
    "# Using older % string formatting method\n",
    "print(\"%s is %d years old.\" %(y,x))"
   ]
  },
  {
   "cell_type": "code",
   "execution_count": 12,
   "id": "b65feedd",
   "metadata": {},
   "outputs": [
    {
     "data": {
      "text/plain": [
       "16"
      ]
     },
     "execution_count": 12,
     "metadata": {},
     "output_type": "execute_result"
    }
   ],
   "source": [
    "x"
   ]
  },
  {
   "cell_type": "code",
   "execution_count": 13,
   "id": "5f135982",
   "metadata": {},
   "outputs": [
    {
     "data": {
      "text/plain": [
       "'Aman'"
      ]
     },
     "execution_count": 13,
     "metadata": {},
     "output_type": "execute_result"
    }
   ],
   "source": [
    "y"
   ]
  },
  {
   "cell_type": "markdown",
   "id": "557c0195",
   "metadata": {},
   "source": [
    "2. Data Types\n",
    "    - Numbers"
   ]
  },
  {
   "cell_type": "code",
   "execution_count": 24,
   "id": "040f8ce5",
   "metadata": {},
   "outputs": [
    {
     "name": "stdout",
     "output_type": "stream",
     "text": [
      "The addition of x and y is 60.\n",
      "The subtraction of x from y is 40.\n",
      "The multiplication of x and y is 500.\n",
      "The division of y from x is 5.0.\n",
      "The reminder is 0.\n"
     ]
    }
   ],
   "source": [
    "# working with numbers\n",
    "x = 10\n",
    "y = 50\n",
    "print(f\"The addition of x and y is {x+y}.\")\n",
    "print(f\"The subtraction of x from y is {y-x}.\")\n",
    "print(f\"The multiplication of x and y is {x*y}.\")\n",
    "print(f\"The division of y from x is {y/x}.\")\n",
    "print(f\"The reminder is {y%x}.\")"
   ]
  },
  {
   "cell_type": "markdown",
   "id": "d4557574",
   "metadata": {},
   "source": [
    "2.2 String"
   ]
  },
  {
   "cell_type": "code",
   "execution_count": 27,
   "id": "ec162c9f",
   "metadata": {},
   "outputs": [
    {
     "name": "stdout",
     "output_type": "stream",
     "text": [
      "Single Quoted String: Python is Awesome!!\n"
     ]
    }
   ],
   "source": [
    "# working with single quoted string\n",
    "single_quoted_string = 'Python is Awesome!!'\n",
    "print(\"Single Quoted String:\", single_quoted_string)"
   ]
  },
  {
   "cell_type": "code",
   "execution_count": 28,
   "id": "f5ab96c3",
   "metadata": {},
   "outputs": [
    {
     "name": "stdout",
     "output_type": "stream",
     "text": [
      "Double Quoted String: I'm Learning Python!!\n"
     ]
    }
   ],
   "source": [
    "# working with double quoted string\n",
    "double_quoted_string = \"I'm Learning Python!!\"\n",
    "print(\"Double Quoted String:\", double_quoted_string)"
   ]
  },
  {
   "cell_type": "code",
   "execution_count": 30,
   "id": "0a14b7e3",
   "metadata": {},
   "outputs": [
    {
     "name": "stdout",
     "output_type": "stream",
     "text": [
      "Concatenated String is: Python is Awesome!! I'm Learning Python!!\n"
     ]
    }
   ],
   "source": [
    "# String Concatenation\n",
    "concatenated_string = single_quoted_string + ' ' + double_quoted_string\n",
    "print(\"Concatenated String is:\", concatenated_string)"
   ]
  },
  {
   "cell_type": "code",
   "execution_count": 34,
   "id": "515b4fbd",
   "metadata": {},
   "outputs": [
    {
     "name": "stdout",
     "output_type": "stream",
     "text": [
      "PYTHON IS AWESOME!! I'M LEARNING PYTHON!!\n",
      "python is awesome!! i'm learning python!!\n"
     ]
    }
   ],
   "source": [
    "# String Methods\n",
    "uppercase_string = concatenated_string.upper()\n",
    "print(uppercase_string)\n",
    "lowercase_string = concatenated_string.lower()\n",
    "print(lowercase_string)"
   ]
  },
  {
   "cell_type": "code",
   "execution_count": 2,
   "id": "47a7f7fd",
   "metadata": {},
   "outputs": [
    {
     "name": "stdout",
     "output_type": "stream",
     "text": [
      "slice word is: ersity\n"
     ]
    }
   ],
   "source": [
    "# String Slicing examples\n",
    "word = \"University of Sundarland\"\n",
    "slice_word = word[4:10]\n",
    "print(\"slice word is:\", slice_word)"
   ]
  },
  {
   "cell_type": "code",
   "execution_count": 6,
   "id": "3ad2a31e-7892-4b43-97c4-453700404be3",
   "metadata": {},
   "outputs": [
    {
     "name": "stdout",
     "output_type": "stream",
     "text": [
      "   Pokhara University   \n",
      "Pokhara University\n"
     ]
    }
   ],
   "source": [
    "# Remove leading and trailing spaces\n",
    "word_space = \"   Pokhara University   \"\n",
    "print(word_space)\n",
    "remove_space = word_space.strip()\n",
    "print(remove_space)"
   ]
  },
  {
   "cell_type": "code",
   "execution_count": 11,
   "id": "f24ba5a6-9702-411c-ad6e-db9bd3707b3c",
   "metadata": {},
   "outputs": [
    {
     "name": "stdout",
     "output_type": "stream",
     "text": [
      "Word list is: ['Kali', 'Linux', 'is', 'used', 'for', 'Hacking']\n",
      "Complete Sentence is: Kali Linux is used for Hacking\n"
     ]
    }
   ],
   "source": [
    "word_list = [\"Kali\", \"Linux\", \"is\", \"used\", \"for\", \"Hacking\"]\n",
    "print(\"Word list is:\",word_list)\n",
    "sentence = \" \".join(word_list)\n",
    "print(\"Complete Sentence is:\",sentence)"
   ]
  },
  {
   "cell_type": "code",
   "execution_count": 15,
   "id": "4f6def12-c6dc-4042-baf8-746b1ed171e4",
   "metadata": {},
   "outputs": [
    {
     "name": "stdout",
     "output_type": "stream",
     "text": [
      "Replaced String: Cybersecurity, World!\n"
     ]
    }
   ],
   "source": [
    "# replace the word in a sentence\n",
    "word_list = \"Hello, World!\"\n",
    "replaced_string = word_list.replace(\"Hello\", \"Cybersecurity\")\n",
    "print(\"Replaced String:\", replaced_string)"
   ]
  },
  {
   "cell_type": "code",
   "execution_count": 17,
   "id": "10d05c8b-6da9-4eb8-8eea-e099247d0f32",
   "metadata": {},
   "outputs": [
    {
     "name": "stdout",
     "output_type": "stream",
     "text": [
      "Index of course: 46\n"
     ]
    }
   ],
   "source": [
    "# find a word in a sentence\n",
    "word = \"Python is Awesome!! I'm learning python crash course.\"\n",
    "index = word.find(\"course\")\n",
    "print(\"Index of course:\", index)"
   ]
  },
  {
   "cell_type": "markdown",
   "id": "476cbea9-7310-481b-8077-dbc39236b63e",
   "metadata": {},
   "source": [
    "2.3 List\n"
   ]
  },
  {
   "cell_type": "code",
   "execution_count": 18,
   "id": "a56e8b78-e845-409e-9499-43b77270b7ac",
   "metadata": {},
   "outputs": [
    {
     "name": "stdout",
     "output_type": "stream",
     "text": [
      "['Hami 3 bhai', 'Papi Manxe', 'Aadi Pusush', 'Animal', 'Hera Pheri']\n"
     ]
    }
   ],
   "source": [
    "# creating a list \n",
    "fav_movie = [\"Hami 3 bhai\", \"Papi Manxe\", \"Aadi Pusush\", \"Animal\", \"Hera Pheri\"]\n",
    "print(fav_movie)"
   ]
  },
  {
   "cell_type": "code",
   "execution_count": 22,
   "id": "fd336570-1279-451a-af61-d4e9b4ae676f",
   "metadata": {},
   "outputs": [
    {
     "name": "stdout",
     "output_type": "stream",
     "text": [
      "Udip Fav Moive is: Papi Manxe\n",
      "Nitin Fav Movie is: Animal\n",
      "Rashna Fav Movie is: Hera Pheri\n"
     ]
    }
   ],
   "source": [
    "# Accessing the element of list\n",
    "print(\"Udip Fav Moive is:\", fav_movie[1]) # Hello World\n",
    "print(\"Nitin Fav Movie is:\", fav_movie[3])\n",
    "print(\"Rashna Fav Movie is:\", fav_movie[-1])"
   ]
  },
  {
   "cell_type": "code",
   "execution_count": 23,
   "id": "b6bd54e7-f6f6-4bf6-bf52-6a96da4b0085",
   "metadata": {},
   "outputs": [
    {
     "name": "stdout",
     "output_type": "stream",
     "text": [
      "The length of string is: 5\n"
     ]
    }
   ],
   "source": [
    "# find the length of list\n",
    "print(\"The length of string is:\", len(fav_movie))"
   ]
  },
  {
   "cell_type": "code",
   "execution_count": 24,
   "id": "064f158f-f097-4cd2-9496-7a89257a9583",
   "metadata": {},
   "outputs": [
    {
     "name": "stdout",
     "output_type": "stream",
     "text": [
      "['Apple', 'Banana', 'Cherry', 'Dragon Fruit']\n",
      "[5, 10, 15, 20, 25]\n",
      "[True, False, True, False]\n",
      "['Apple', 5, True]\n"
     ]
    }
   ],
   "source": [
    "# List can contain hetrogeneous data types\n",
    "list1 = [\"Apple\", \"Banana\", \"Cherry\", \"Dragon Fruit\"]\n",
    "list2 = [5, 10, 15, 20, 25]\n",
    "list3 = [True, False, True, False]\n",
    "list4 = [\"Apple\", 5, True]\n",
    "print(list1)\n",
    "print(list2)\n",
    "print(list3)\n",
    "print(list4)"
   ]
  },
  {
   "cell_type": "code",
   "execution_count": 25,
   "id": "8154d250-cce0-4b6c-91e1-7e893d0faa71",
   "metadata": {},
   "outputs": [
    {
     "name": "stdout",
     "output_type": "stream",
     "text": [
      "<class 'list'>\n"
     ]
    }
   ],
   "source": [
    "# let's find the type of data types\n",
    "print(type(list4))"
   ]
  },
  {
   "cell_type": "code",
   "execution_count": 29,
   "id": "c4189db9-cc6b-4322-a053-5a2fb13746f3",
   "metadata": {},
   "outputs": [
    {
     "name": "stdout",
     "output_type": "stream",
     "text": [
      "['One Piece', 'Lord of the Rings', [9, 10]]\n",
      "IMDB rating LOR: 10\n"
     ]
    }
   ],
   "source": [
    "# Nested List \n",
    "nested_list = [\"One Piece\", \"Lord of the Rings\", [9, 10]]\n",
    "print(nested_list)\n",
    "print(\"IMDB rating LOR:\",nested_list[2][1])"
   ]
  },
  {
   "cell_type": "markdown",
   "id": "171e0cf0-0312-45b9-b548-72bf16f21987",
   "metadata": {},
   "source": [
    "2.4 Disctionary"
   ]
  },
  {
   "cell_type": "code",
   "execution_count": 31,
   "id": "0b9e46ed-f49b-4441-93f9-b676d2664b7a",
   "metadata": {},
   "outputs": [
    {
     "name": "stdout",
     "output_type": "stream",
     "text": [
      "{'name': 'Siddhant', 'Department': 'Computer Engineering', 'CGPA': 3.8}\n"
     ]
    }
   ],
   "source": [
    "# Creating a disctionary\n",
    "student = {\n",
    "    \"name\": \"Siddhant\",\n",
    "    \"Department\": \"Computer Engineering\",\n",
    "    \"CGPA\": 3.8\n",
    "}\n",
    "print(student)"
   ]
  },
  {
   "cell_type": "code",
   "execution_count": 32,
   "id": "751b7496-8442-4083-9d3b-b4b7be94e877",
   "metadata": {},
   "outputs": [
    {
     "name": "stdout",
     "output_type": "stream",
     "text": [
      "Student's Name: Siddhant\n"
     ]
    }
   ],
   "source": [
    "# Accessing the disctionary items\n",
    "print(\"Student's Name:\", student[\"name\"])"
   ]
  },
  {
   "cell_type": "code",
   "execution_count": 33,
   "id": "36702f88-7340-4ff0-9195-d7e2313ff633",
   "metadata": {},
   "outputs": [
    {
     "name": "stdout",
     "output_type": "stream",
     "text": [
      "{'name': 'Siddhant', 'Department': 'Computer Engineering', 'CGPA': 3.8, 'Year': 2019}\n"
     ]
    }
   ],
   "source": [
    "# Adding a new element\n",
    "student[\"Year\"] = 2019\n",
    "# Print the disctionary as a string\n",
    "print(repr(student))"
   ]
  },
  {
   "cell_type": "code",
   "execution_count": 34,
   "id": "e3a67d98-b08e-4afe-ba34-d1fd3b750f60",
   "metadata": {},
   "outputs": [
    {
     "name": "stdout",
     "output_type": "stream",
     "text": [
      "{'name': 'Siddhant', 'Department': 'Computer Engineering', 'CGPA': 3.9, 'Year': 2019}\n"
     ]
    }
   ],
   "source": [
    "# Modifying an existing item\n",
    "student[\"CGPA\"] = 3.9\n",
    "print(repr(student))"
   ]
  },
  {
   "cell_type": "code",
   "execution_count": 36,
   "id": "577ba61c-ea9e-480e-b5dd-c7b51a37fc14",
   "metadata": {},
   "outputs": [
    {
     "name": "stdout",
     "output_type": "stream",
     "text": [
      "{'name': 'Siddhant', 'Department': 'Computer Engineering', 'CGPA': 3.9}\n"
     ]
    }
   ],
   "source": [
    "# Deleting an item if it exists\n",
    "if \"Year\" in student:\n",
    "    del student[\"Year\"]\n",
    "print(student)"
   ]
  },
  {
   "cell_type": "code",
   "execution_count": 37,
   "id": "69aca2c4-5928-48d8-925e-e0db16eb5d66",
   "metadata": {},
   "outputs": [
    {
     "name": "stdout",
     "output_type": "stream",
     "text": [
      "{'name': 'Tesla', 'company': 'Tesla', 'price': 10}\n"
     ]
    }
   ],
   "source": [
    "car_dict = dict(name=\"Tesla\", company=\"Tesla\", price=10)\n",
    "print(repr(car_dict))"
   ]
  },
  {
   "cell_type": "code",
   "execution_count": 4,
   "id": "5c0998c5-d14f-40d8-bbdd-ae3a42a94df7",
   "metadata": {},
   "outputs": [
    {
     "name": "stdout",
     "output_type": "stream",
     "text": [
      "\n",
      "Example 1: Comparing Values:\n",
      "IS 100 is smaller than 200? True\n",
      "Is 50 is equal to 100? False\n"
     ]
    }
   ],
   "source": [
    "# Boolean: Let's learn Boolean\n",
    "print(\"\\nExample 1: Comparing Values:\")\n",
    "print(\"IS 100 is smaller than 200?\", 200>100)\n",
    "print(\"Is 50 is equal to 100?\", 50 == 100)"
   ]
  },
  {
   "cell_type": "code",
   "execution_count": 6,
   "id": "ca003408",
   "metadata": {},
   "outputs": [
    {
     "name": "stdout",
     "output_type": "stream",
     "text": [
      "200 is greater than 50.\n"
     ]
    }
   ],
   "source": [
    "# Example 2: Find the greatest number among two\n",
    "x = 50\n",
    "y = 200\n",
    "if x > y:\n",
    "    print(f\"{x} is greater than {y}.\")\n",
    "else:\n",
    "    print(f\"{y} is greater than {x}.\")"
   ]
  },
  {
   "cell_type": "code",
   "execution_count": 12,
   "id": "0f66540c",
   "metadata": {},
   "outputs": [
    {
     "name": "stdout",
     "output_type": "stream",
     "text": [
      "Is 'Hello' True? True\n",
      "Is x True? True\n",
      "Is y True? True\n"
     ]
    }
   ],
   "source": [
    "# Evulating Values and Variables\n",
    "print(\"Is 'Hello' True?\",bool(\"Hello\"))\n",
    "x = \"Hi\"\n",
    "y = 25\n",
    "print(\"Is x True?\", bool(x))\n",
    "print(\"Is y True?\", bool(y))"
   ]
  },
  {
   "cell_type": "code",
   "execution_count": 14,
   "id": "a7b860ff",
   "metadata": {},
   "outputs": [
    {
     "name": "stdout",
     "output_type": "stream",
     "text": [
      "Is 20 is even? True\n",
      "Is 15 is even? False\n"
     ]
    }
   ],
   "source": [
    "# Let's practice function that returns boolean\n",
    "def is_even(num):\n",
    "    return num % 2 == 0\n",
    "\n",
    "print(\"Is 20 is even?\", is_even(20))\n",
    "print(\"Is 15 is even?\", is_even(15))"
   ]
  },
  {
   "cell_type": "code",
   "execution_count": 15,
   "id": "5d4934fa",
   "metadata": {},
   "outputs": [
    {
     "name": "stdout",
     "output_type": "stream",
     "text": [
      "('Najariya Churaya', 'One Piece', 'Tiger 3')\n"
     ]
    }
   ],
   "source": [
    "# Tuples: Let's learn about tuples\n",
    "fav_movie = (\"Najariya Churaya\", \"One Piece\", \"Tiger 3\")\n",
    "print(fav_movie)"
   ]
  },
  {
   "cell_type": "code",
   "execution_count": 17,
   "id": "6c5c0a57",
   "metadata": {},
   "outputs": [
    {
     "name": "stdout",
     "output_type": "stream",
     "text": [
      "Keshav fav movie is Najariya Churaya\n",
      "Ram fav movie is Tiger 3\n"
     ]
    }
   ],
   "source": [
    "# Accessing the fav movie\n",
    "print(\"Keshav fav movie is\", fav_movie[0])\n",
    "print(\"Ram fav movie is\", fav_movie[2])"
   ]
  },
  {
   "cell_type": "code",
   "execution_count": 18,
   "id": "b13c237a",
   "metadata": {},
   "outputs": [
    {
     "name": "stdout",
     "output_type": "stream",
     "text": [
      "Seperate Movie: Najariya Churaya One Piece Najariya Churaya\n"
     ]
    }
   ],
   "source": [
    "x, y, z = fav_movie\n",
    "print(\"Seperate Movie:\", x,y,x)"
   ]
  },
  {
   "cell_type": "code",
   "execution_count": 20,
   "id": "abc07a72",
   "metadata": {},
   "outputs": [
    {
     "name": "stdout",
     "output_type": "stream",
     "text": [
      "Najariya Churaya\n",
      "One Piece\n",
      "Tiger 3\n"
     ]
    }
   ],
   "source": [
    "for movie in fav_movie:\n",
    "    print(movie)"
   ]
  },
  {
   "cell_type": "code",
   "execution_count": 21,
   "id": "daa39caf",
   "metadata": {},
   "outputs": [
    {
     "name": "stdout",
     "output_type": "stream",
     "text": [
      "('Apple', 'Banana', 'Cherry', 1, 10, 20)\n"
     ]
    }
   ],
   "source": [
    "# Joining the two tupples\n",
    "first_tuple = (\"Apple\", \"Banana\", \"Cherry\")\n",
    "second_tuple = (1, 10, 20)\n",
    "joined_tuples = first_tuple + second_tuple\n",
    "print(joined_tuples)"
   ]
  },
  {
   "cell_type": "code",
   "execution_count": 26,
   "id": "018ce754",
   "metadata": {},
   "outputs": [
    {
     "name": "stdout",
     "output_type": "stream",
     "text": [
      "{'banana', 'apple', 'aanar', 'cherry'}\n"
     ]
    }
   ],
   "source": [
    "# Sets: Let's learn about sets\n",
    "# Creating a sets\n",
    "my_first_set = {\"apple\", \"banana\", \"cherry\", \"aanar\"}\n",
    "print(my_first_set)"
   ]
  },
  {
   "cell_type": "code",
   "execution_count": 24,
   "id": "1f7f3cf3",
   "metadata": {},
   "outputs": [
    {
     "name": "stdout",
     "output_type": "stream",
     "text": [
      "{'aanar', 'cherry', 'apple', 'orange', 'banana'}\n"
     ]
    }
   ],
   "source": [
    "# Adding a new fruit to our set\n",
    "my_first_set.add(\"orange\")\n",
    "print(my_first_set)"
   ]
  },
  {
   "cell_type": "code",
   "execution_count": 28,
   "id": "f555add1",
   "metadata": {},
   "outputs": [
    {
     "name": "stdout",
     "output_type": "stream",
     "text": [
      "{'aanar', 'apple', 'cherry', 'pineapple', 'mango', 'banana'}\n"
     ]
    }
   ],
   "source": [
    "# upadting our sets\n",
    "my_first_set.update([\"mango\", \"pineapple\"])\n",
    "print(my_first_set)"
   ]
  },
  {
   "cell_type": "code",
   "execution_count": 30,
   "id": "af7f7165",
   "metadata": {},
   "outputs": [
    {
     "name": "stdout",
     "output_type": "stream",
     "text": [
      "{'aanar', 'apple', 'cherry', 'pineapple', 'banana'}\n"
     ]
    }
   ],
   "source": [
    "# remove the fruits from sets\n",
    "my_first_set.remove(\"mango\")\n",
    "print(my_first_set)"
   ]
  },
  {
   "cell_type": "code",
   "execution_count": 31,
   "id": "f8fabb46",
   "metadata": {},
   "outputs": [
    {
     "name": "stdout",
     "output_type": "stream",
     "text": [
      "70 is greatest number.\n"
     ]
    }
   ],
   "source": [
    "# Conditional Statements:\n",
    "# Finding the greatest number among three\n",
    "a = 20\n",
    "b = 50\n",
    "c = 70\n",
    "\n",
    "if a >= b and a >= c: \n",
    "    print(f\"{a} is greatest number.\")\n",
    "elif b >= a and b >= c:\n",
    "    print(f\"{b} is greatest number.\")\n",
    "else:\n",
    "    print(f\"{c} is greatest number.\")\n"
   ]
  },
  {
   "cell_type": "code",
   "execution_count": 34,
   "id": "0ca8178c",
   "metadata": {},
   "outputs": [
    {
     "name": "stdout",
     "output_type": "stream",
     "text": [
      "Leap Year\n"
     ]
    }
   ],
   "source": [
    "# Leap Year\n",
    "year = 2028\n",
    "\n",
    "if (year % 4 == 0 and year % 100 !=0) or (year % 400 == 0):\n",
    "    print(\"Leap Year\")\n",
    "else:\n",
    "    print(\"Not Leap Year\")\n",
    "    "
   ]
  },
  {
   "cell_type": "code",
   "execution_count": 36,
   "id": "2f4a410d",
   "metadata": {},
   "outputs": [
    {
     "name": "stdout",
     "output_type": "stream",
     "text": [
      "Autumn\n"
     ]
    }
   ],
   "source": [
    "# Determining the season based on the month\n",
    "month = \"Sep\"\n",
    "\n",
    "if month in [\"Jan\", \"Feb\", \"March\", \"May\"]:\n",
    "    print(\"Spring\")\n",
    "elif month in [\"Sep\", \"Oct\", \"Nov\"]:\n",
    "    print(\"Autumn\")\n",
    "elif month in [\"June\", \"July\", \"August\"]:\n",
    "    print(\"Summer\")"
   ]
  },
  {
   "cell_type": "code",
   "execution_count": 2,
   "id": "2416494d",
   "metadata": {},
   "outputs": [
    {
     "name": "stdout",
     "output_type": "stream",
     "text": [
      "\n",
      "Multiple of five:\n",
      "5\n",
      "10\n",
      "15\n",
      "20\n",
      "25\n"
     ]
    }
   ],
   "source": [
    "# Loops: Let's learn \n",
    "multiple_of_five = [5, 10, 15, 20, 25]\n",
    "\n",
    "print(\"\\nMultiple of five:\")\n",
    "for num in multiple_of_five:\n",
    "    print(num)"
   ]
  },
  {
   "cell_type": "code",
   "execution_count": 4,
   "id": "0002a5c5-f8bc-46ff-83b8-e2b21afc4651",
   "metadata": {},
   "outputs": [
    {
     "name": "stdout",
     "output_type": "stream",
     "text": [
      "H\n",
      "i\n",
      " \n",
      "I\n",
      " \n",
      "a\n",
      "m\n",
      " \n",
      "L\n",
      "e\n",
      "a\n",
      "r\n",
      "n\n",
      "i\n",
      "n\n",
      "g\n",
      " \n",
      "P\n",
      "y\n",
      "t\n",
      "h\n",
      "o\n",
      "n\n"
     ]
    }
   ],
   "source": [
    "# Let's work with string\n",
    "string = \"Hi I am Learning Python\"\n",
    "\n",
    "for char in string:\n",
    "    print(char)"
   ]
  },
  {
   "cell_type": "code",
   "execution_count": 7,
   "id": "6fd243d4-1339-4095-8522-24923ca9e04f",
   "metadata": {},
   "outputs": [
    {
     "name": "stdout",
     "output_type": "stream",
     "text": [
      "0\n",
      "1\n",
      "2\n",
      "3\n",
      "4\n",
      "5\n",
      "6\n",
      "7\n",
      "8\n",
      "9\n"
     ]
    }
   ],
   "source": [
    "# Let's range\n",
    "for i in range(10):\n",
    "    print(i)"
   ]
  },
  {
   "cell_type": "code",
   "execution_count": 8,
   "id": "9d221121-33a9-4685-bee0-3a1ecb061d85",
   "metadata": {},
   "outputs": [
    {
     "name": "stdout",
     "output_type": "stream",
     "text": [
      "1\n",
      "2\n",
      "3\n",
      "4\n"
     ]
    }
   ],
   "source": [
    "for i in range(1,5):\n",
    "    print(i)"
   ]
  },
  {
   "cell_type": "code",
   "execution_count": 11,
   "id": "6941638d-dbaa-421c-a3f4-e576653cc72c",
   "metadata": {},
   "outputs": [
    {
     "name": "stdout",
     "output_type": "stream",
     "text": [
      "0\n",
      "2\n",
      "4\n",
      "6\n",
      "8\n",
      "10\n"
     ]
    }
   ],
   "source": [
    "# Even number from 1 to 10 \n",
    "for i in range(0,11,2):\n",
    "    print(i)"
   ]
  },
  {
   "cell_type": "code",
   "execution_count": 15,
   "id": "b3abeb7e-4786-412d-88f7-262c2d4847cd",
   "metadata": {},
   "outputs": [
    {
     "name": "stdout",
     "output_type": "stream",
     "text": [
      "\n",
      "odd number from 1 to 10:\n",
      "1\n",
      "3\n",
      "5\n",
      "7\n",
      "9\n",
      "\n",
      "Odd number from 20-11\n",
      "19\n",
      "17\n",
      "15\n",
      "13\n",
      "11\n"
     ]
    }
   ],
   "source": [
    "# Odd number from 1 to 10 and 20 - 11\n",
    "print(\"\\nodd number from 1 to 10:\")\n",
    "for i in range(1,11,2):\n",
    "    print(i)\n",
    "\n",
    "print(\"\\nOdd number from 20-11\")\n",
    "for i in range(19,10,-2):\n",
    "    print(i)"
   ]
  },
  {
   "cell_type": "code",
   "execution_count": 17,
   "id": "c90fe237-2fd8-4873-bc5a-137e4e48081e",
   "metadata": {},
   "outputs": [
    {
     "name": "stdout",
     "output_type": "stream",
     "text": [
      "KGF : 9\n",
      "Inspection : 10\n",
      "Braking Bad : 9\n"
     ]
    }
   ],
   "source": [
    "# Let's use disctionary\n",
    "fav_movie = {\n",
    "    \"KGF\": 9,\n",
    "    \"Inspection\": 10,\n",
    "    \"Braking Bad\": 9\n",
    "            }\n",
    "for key, value in fav_movie.items():\n",
    "    print(key, \":\", value)"
   ]
  },
  {
   "cell_type": "code",
   "execution_count": 18,
   "id": "ba6286d0-cdbe-41ed-a8e1-b5d292732981",
   "metadata": {},
   "outputs": [
    {
     "name": "stdout",
     "output_type": "stream",
     "text": [
      "\n",
      "Elements of Fruits Tuple:\n",
      "('Apple', 10)\n",
      "('Banana', 12)\n",
      "('Cherry', 15)\n"
     ]
    }
   ],
   "source": [
    "# Let's learn loop with tuple\n",
    "fruits = [(\"Apple\", 10), (\"Banana\", 12), (\"Cherry\", 15)]\n",
    "print(\"\\nElements of Fruits Tuple:\")\n",
    "for item in fruits:\n",
    "    print(item)"
   ]
  },
  {
   "cell_type": "code",
   "execution_count": 20,
   "id": "e953a400-2a70-4172-97a8-082dd212f165",
   "metadata": {},
   "outputs": [
    {
     "name": "stdout",
     "output_type": "stream",
     "text": [
      "Character: Apple | Quantity: 10\n",
      "Character: Banana | Quantity: 12\n",
      "Character: Cherry | Quantity: 15\n"
     ]
    }
   ],
   "source": [
    "# Let's seperate each element from tuple fruits:\n",
    "for char, num in fruits:\n",
    "    print(\"Character:\", char, \"| Quantity:\", num)"
   ]
  },
  {
   "cell_type": "code",
   "execution_count": 21,
   "id": "a761affb-fa1b-4ff5-bd60-966497c364fa",
   "metadata": {},
   "outputs": [
    {
     "name": "stdout",
     "output_type": "stream",
     "text": [
      "1\n",
      "2\n",
      "3\n",
      "4\n",
      "5\n",
      "6\n",
      "7\n",
      "8\n",
      "9\n",
      "10\n"
     ]
    }
   ],
   "source": [
    "# Let's learn while loop\n",
    "count = 1\n",
    "while count <= 10:\n",
    "    print(count)\n",
    "    count += 1"
   ]
  },
  {
   "cell_type": "code",
   "execution_count": 23,
   "id": "5f63793b-da43-4d9b-a7e2-3c018434ec25",
   "metadata": {},
   "outputs": [
    {
     "name": "stdout",
     "output_type": "stream",
     "text": [
      "\n",
      "The sum of number from 1 - 10 is: 55\n"
     ]
    }
   ],
   "source": [
    "# Find the sum of numbers 1-10 using while loops\n",
    "sum = 0\n",
    "num = 1\n",
    "while num <= 10:\n",
    "    sum += num\n",
    "    num += 1\n",
    "print(\"\\nThe sum of number from 1 - 10 is:\", sum)"
   ]
  },
  {
   "cell_type": "code",
   "execution_count": 24,
   "id": "89dd44fb-10a3-4e59-96d3-bb1072d6ec83",
   "metadata": {},
   "outputs": [
    {
     "name": "stdout",
     "output_type": "stream",
     "text": [
      "The sum of number from 1 to 10 even numbers only: 30\n"
     ]
    }
   ],
   "source": [
    "# Find the sum of number from 1 to 10 even numbers only\n",
    "sum = 0\n",
    "num = 1\n",
    "while num <= 10:\n",
    "    if num % 2 == 0:\n",
    "        sum += num\n",
    "    num += 1\n",
    "print(\"The sum of number from 1 to 10 even numbers only:\", sum)"
   ]
  },
  {
   "cell_type": "code",
   "execution_count": 26,
   "id": "59045911-1965-434c-abcb-1a77e7b26155",
   "metadata": {},
   "outputs": [
    {
     "name": "stdout",
     "output_type": "stream",
     "text": [
      "2\n",
      "4\n",
      "6\n",
      "8\n",
      "10\n"
     ]
    }
   ],
   "source": [
    "# Find the even number from 1 to 10 using while loop:\n",
    "num = 1\n",
    "while num <= 10:\n",
    "    if num % 2 == 0:\n",
    "        print(num)\n",
    "    num += 1"
   ]
  },
  {
   "cell_type": "code",
   "execution_count": 28,
   "id": "0aadcb77-5ad1-47c3-9435-cd9a97382917",
   "metadata": {},
   "outputs": [
    {
     "name": "stdout",
     "output_type": "stream",
     "text": [
      "Factorial of 5 is: 120\n"
     ]
    }
   ],
   "source": [
    "# Find the factorial of 5\n",
    "number = 5\n",
    "factorial = 1\n",
    "while number > 0:\n",
    "    factorial *= number\n",
    "    number -= 1\n",
    "print(\"Factorial of 5 is:\", factorial)"
   ]
  },
  {
   "cell_type": "code",
   "execution_count": null,
   "id": "8d9e7a97-e14f-4ed0-b77c-e18cfb030b80",
   "metadata": {},
   "outputs": [],
   "source": [
    "# Reverse the string using while loop\n",
    "string = \"Flimy\"\n",
    "\n"
   ]
  },
  {
   "cell_type": "code",
   "execution_count": 32,
   "id": "68b68290-8a4f-4c74-8068-bd58bf056425",
   "metadata": {},
   "outputs": [
    {
     "name": "stdout",
     "output_type": "stream",
     "text": [
      "Hello World!!!\n"
     ]
    }
   ],
   "source": [
    "# Function: Let's greet first\n",
    "def greet():\n",
    "    print(\"Hello World!!!\")\n",
    "greet()"
   ]
  },
  {
   "cell_type": "code",
   "execution_count": 1,
   "id": "b5911108-4819-4b00-950a-2b43c445dbb7",
   "metadata": {},
   "outputs": [
    {
     "name": "stdout",
     "output_type": "stream",
     "text": [
      "Hello Bata\n",
      "Hello Ranjit\n"
     ]
    }
   ],
   "source": [
    "# Function with parameters\n",
    "def greet(name):\n",
    "    print(\"Hello\", name)\n",
    "greet(\"Bata\")\n",
    "greet(\"Ranjit\")"
   ]
  },
  {
   "cell_type": "code",
   "execution_count": 3,
   "id": "2e682914-9fd9-41a3-962a-403e72d0d6ac",
   "metadata": {},
   "outputs": [
    {
     "name": "stdout",
     "output_type": "stream",
     "text": [
      "100\n"
     ]
    }
   ],
   "source": [
    "# Function with Return Value\n",
    "def square(a):\n",
    "    return a**2\n",
    "result = square(10)\n",
    "print(result)"
   ]
  },
  {
   "cell_type": "code",
   "execution_count": 5,
   "id": "b7e06c9b-3449-4649-9977-5f66eee59a1b",
   "metadata": {},
   "outputs": [
    {
     "name": "stdout",
     "output_type": "stream",
     "text": [
      "Hello World!!\n",
      "Hello Python!\n"
     ]
    }
   ],
   "source": [
    "# Function with default paramenter value\n",
    "def greet_with_default(name=\"World!!\"):\n",
    "    print(\"Hello\", name)\n",
    "\n",
    "greet_with_default()\n",
    "greet_with_default(name=\"Python!\")"
   ]
  },
  {
   "cell_type": "code",
   "execution_count": 6,
   "id": "46206865-f87a-4e06-8b20-530759bf690b",
   "metadata": {},
   "outputs": [
    {
     "name": "stdout",
     "output_type": "stream",
     "text": [
      "Minimun Number: 1\n",
      "Maximun Number: 250\n"
     ]
    }
   ],
   "source": [
    "# Function with multiple values: Find the min and max number\n",
    "def min_max(num):\n",
    "    return min(num), max(num)\n",
    "\n",
    "num = [1, 5, 10, 20, 100, 250]\n",
    "min_num, max_num = min_max(num)\n",
    "print(\"Minimun Number:\", min_num)\n",
    "print(\"Maximun Number:\", max_num)"
   ]
  },
  {
   "cell_type": "code",
   "execution_count": 8,
   "id": "5e113f5a-1b0f-4ae7-ae72-88cd182f9382",
   "metadata": {},
   "outputs": [
    {
     "name": "stdout",
     "output_type": "stream",
     "text": [
      "Factorial of 5: 120\n"
     ]
    }
   ],
   "source": [
    "# Recursive function to calculate factorial\n",
    "def factorial(n):\n",
    "    if n == 0:\n",
    "        return 1\n",
    "    else:\n",
    "        return n* factorial(n-1)\n",
    "print(\"Factorial of 5:\", factorial(5))"
   ]
  },
  {
   "cell_type": "code",
   "execution_count": 10,
   "id": "4406f9b4-4144-4c82-9d56-8bbc63a51896",
   "metadata": {},
   "outputs": [
    {
     "name": "stdout",
     "output_type": "stream",
     "text": [
      "Sum of 1, 3, 5 and 7: 16\n"
     ]
    }
   ],
   "source": [
    "# Function with variable number of arguments\n",
    "def sum(*arg):\n",
    "    total = 0\n",
    "    for num in arg:\n",
    "        total += num\n",
    "    return total\n",
    "print(\"Sum of 1, 3, 5 and 7:\", sum(1,3,5,7))"
   ]
  },
  {
   "cell_type": "code",
   "execution_count": 12,
   "id": "3ed1ce04-e2e9-445e-a12b-10e130fc22b4",
   "metadata": {},
   "outputs": [
    {
     "name": "stdout",
     "output_type": "stream",
     "text": [
      "Square of 5: 25\n"
     ]
    }
   ],
   "source": [
    "# Lambda Expression or Function\n",
    "square = lambda x: x**2 \n",
    "print(\"Square of 5:\", sqaure(5))"
   ]
  },
  {
   "cell_type": "code",
   "execution_count": 14,
   "id": "32b8550a-9527-4c87-b7f4-32e7b9b90c67",
   "metadata": {},
   "outputs": [
    {
     "name": "stdout",
     "output_type": "stream",
     "text": [
      "Sum of two numbers: 30\n"
     ]
    }
   ],
   "source": [
    "# Addition of two numbers\n",
    "sum = lambda x,y: x+y\n",
    "print(\"Sum of two numbers:\", sum(10,20))"
   ]
  },
  {
   "cell_type": "code",
   "execution_count": 15,
   "id": "0d9d69dc-9128-43c1-96d5-12129116b317",
   "metadata": {},
   "outputs": [
    {
     "name": "stdout",
     "output_type": "stream",
     "text": [
      "Sorted names based on their characters: ['Bata', 'Bajes', 'Saloni', 'Lumanti']\n"
     ]
    }
   ],
   "source": [
    "# sorting based on length(characters) of name \n",
    "names = [\"Bata\", \"Saloni\", \"Lumanti\", \"Bajes\"]\n",
    "sorted_names = sorted(names, key= lambda name: len(name))\n",
    "print(\"Sorted names based on their characters:\", sorted_names)"
   ]
  },
  {
   "cell_type": "code",
   "execution_count": 16,
   "id": "2c496bc1-b13d-4ae0-afc1-0b509090a88f",
   "metadata": {},
   "outputs": [
    {
     "name": "stdout",
     "output_type": "stream",
     "text": [
      "Even Numbers from List: [2, 8, 6, 20, 24, 26]\n"
     ]
    }
   ],
   "source": [
    "# Find the even numbers in a list using lambda function\n",
    "numbers = [2, 3, 5, 8, 6, 20, 24, 26, 101, 103]\n",
    "even_numbers = list(filter(lambda x: x % 2 == 0, numbers))\n",
    "print(\"Even Numbers from List:\", even_numbers)"
   ]
  },
  {
   "cell_type": "code",
   "execution_count": 17,
   "id": "fbbe8929-c147-40e7-943c-8138e2236e76",
   "metadata": {},
   "outputs": [
    {
     "name": "stdout",
     "output_type": "stream",
     "text": [
      "Squared list of numbers: [1, 4, 9, 16, 25, 36, 49, 64, 81]\n"
     ]
    }
   ],
   "source": [
    "# Mapping a function to a list using lambda function\n",
    "numbers = [1, 2, 3, 4, 5, 6, 7, 8, 9]\n",
    "squared_list = list(map(lambda x: x**2, numbers))\n",
    "print(\"Squared list of numbers:\", squared_list)"
   ]
  },
  {
   "cell_type": "code",
   "execution_count": 22,
   "id": "37c2f1f8-4cb2-4b0a-939a-839c280d69e3",
   "metadata": {},
   "outputs": [
    {
     "name": "stdout",
     "output_type": "stream",
     "text": [
      "My list after append: [1, 4, 9, 16, 25, 36, 49, 64, 81, 100]\n",
      "My list after popped: [1, 4, 9, 16, 25, 36, 49, 64, 81]\n",
      "Sorted_list: [2, 5, 10, 15, 17, 29]\n",
      "Reversed list: [29, 17, 15, 10, 5, 2]\n"
     ]
    }
   ],
   "source": [
    "# Let's learn list method:\n",
    "my_list = [1, 4, 9, 16, 25, 36, 49, 64, 81]\n",
    "\n",
    "#append()\n",
    "my_list.append(100)\n",
    "print(\"My list after append:\",my_list)\n",
    "\n",
    "# pop(): removes and return the last element from the list\n",
    "my_list.pop()\n",
    "print(\"My list after popped:\", my_list)\n",
    "\n",
    "# sort()\n",
    "new_list = [10, 5, 15, 2, 17, 29]\n",
    "new_list.sort()\n",
    "print(\"Sorted_list:\", new_list)\n",
    "\n",
    "# reverse()\n",
    "new_list.reverse()\n",
    "print(\"Reversed list:\", new_list)"
   ]
  },
  {
   "cell_type": "code",
   "execution_count": 27,
   "id": "36679e23-145e-47dd-82c6-74490ab11964",
   "metadata": {},
   "outputs": [
    {
     "name": "stdout",
     "output_type": "stream",
     "text": [
      "Keys(): dict_keys(['Apple', 'Banana', 'Cherry', 'Dragon Fruit'])\n",
      "Values(): dict_values([20, 12, 10, 25])\n",
      "Items(): dict_items([('Apple', 20), ('Banana', 12), ('Cherry', 10), ('Dragon Fruit', 25)])\n",
      "get(): 20\n"
     ]
    }
   ],
   "source": [
    "# Using disctionary method\n",
    "my_dict = {\n",
    "    \"Apple\": 20,\n",
    "    \"Banana\": 12,\n",
    "    \"Cherry\": 10,\n",
    "    \"Dragon Fruit\": 25\n",
    "}\n",
    "\n",
    "# key() Return a view of all keys in given disctionary\n",
    "print(\"Keys():\", my_dict.keys())\n",
    "\n",
    "# values() Return a view of all values in a given disctionary\n",
    "print(\"Values():\", my_dict.values())\n",
    "\n",
    "# items()Return a view of all key-value pairs in the disctionary\n",
    "print(\"Items():\", my_dict.items())\n",
    "\n",
    "#get() Return a view of specified key or return default values if not found\n",
    "print(\"get():\", my_dict.get(\"Apple\"))"
   ]
  },
  {
   "cell_type": "code",
   "execution_count": 28,
   "id": "703710ee-b57c-4f2a-80cb-382be4ce564c",
   "metadata": {},
   "outputs": [
    {
     "name": "stdout",
     "output_type": "stream",
     "text": [
      "Collecting Pandoc\n",
      "  Downloading pandoc-2.3.tar.gz (33 kB)\n",
      "  Preparing metadata (setup.py) ... \u001b[?25ldone\n",
      "\u001b[?25hCollecting plumbum (from Pandoc)\n",
      "  Downloading plumbum-1.8.3-py3-none-any.whl.metadata (10 kB)\n",
      "Collecting ply (from Pandoc)\n",
      "  Downloading ply-3.11-py2.py3-none-any.whl.metadata (844 bytes)\n",
      "Downloading plumbum-1.8.3-py3-none-any.whl (127 kB)\n",
      "\u001b[2K   \u001b[38;2;114;156;31m━━━━━━━━━━━━━━━━━━━━━━━━━━━━━━━━━━━━━━━━\u001b[0m \u001b[32m127.6/127.6 kB\u001b[0m \u001b[31m1.1 MB/s\u001b[0m eta \u001b[36m0:00:00\u001b[0m[31m1.2 MB/s\u001b[0m eta \u001b[36m0:00:01\u001b[0m\n",
      "\u001b[?25hDownloading ply-3.11-py2.py3-none-any.whl (49 kB)\n",
      "\u001b[2K   \u001b[38;2;114;156;31m━━━━━━━━━━━━━━━━━━━━━━━━━━━━━━━━━━━━━━━━\u001b[0m \u001b[32m49.6/49.6 kB\u001b[0m \u001b[31m1.2 MB/s\u001b[0m eta \u001b[36m0:00:00\u001b[0m\n",
      "\u001b[?25hBuilding wheels for collected packages: Pandoc\n",
      "  Building wheel for Pandoc (setup.py) ... \u001b[?25ldone\n",
      "\u001b[?25h  Created wheel for Pandoc: filename=pandoc-2.3-py3-none-any.whl size=33261 sha256=97452c55a42d70228969a0a3f6fef4f094cb76ef8c482fbbe3f04999fa6a917c\n",
      "  Stored in directory: /home/siddhant/.cache/pip/wheels/1c/a9/c4/6254542c4e8202d52fcd69798d2507aaad1f2a4bb60f2f0fea\n",
      "Successfully built Pandoc\n",
      "Installing collected packages: ply, plumbum, Pandoc\n",
      "Successfully installed Pandoc-2.3 plumbum-1.8.3 ply-3.11\n",
      "Note: you may need to restart the kernel to use updated packages.\n"
     ]
    }
   ],
   "source": [
    "pip install Pandoc"
   ]
  },
  {
   "cell_type": "code",
   "execution_count": null,
   "id": "d0107648-1b3c-45ca-95ed-684f0acb1d1d",
   "metadata": {},
   "outputs": [],
   "source": []
  }
 ],
 "metadata": {
  "kernelspec": {
   "display_name": "Python 3 (ipykernel)",
   "language": "python",
   "name": "python3"
  },
  "language_info": {
   "codemirror_mode": {
    "name": "ipython",
    "version": 3
   },
   "file_extension": ".py",
   "mimetype": "text/x-python",
   "name": "python",
   "nbconvert_exporter": "python",
   "pygments_lexer": "ipython3",
   "version": "3.11.5"
  }
 },
 "nbformat": 4,
 "nbformat_minor": 5
}
